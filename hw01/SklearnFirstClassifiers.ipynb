{
 "cells": [
  {
   "cell_type": "markdown",
   "metadata": {},
   "source": [
    "# Обучаем первые классификаторы в sklearn"
   ]
  },
  {
   "cell_type": "markdown",
   "metadata": {},
   "source": [
    "### Данные"
   ]
  },
  {
   "cell_type": "markdown",
   "metadata": {},
   "source": [
    "\n",
    "По данным характеристикам молекулы требуется определить, будет ли дан биологический ответ (biological response).\n",
    "\n",
    "Для демонстрации используется обучающая выборка из исходных данных bioresponse.csv, файл с данными прилагается."
   ]
  },
  {
   "cell_type": "markdown",
   "metadata": {},
   "source": [
    "### Готовим обучающую и тестовую выборки"
   ]
  },
  {
   "cell_type": "code",
   "execution_count": 155,
   "metadata": {
    "collapsed": true
   },
   "outputs": [],
   "source": [
    "import pandas as pd\n",
    "\n",
    "bioresponce = pd.read_csv('bioresponse.csv', header=0, sep=',')"
   ]
  },
  {
   "cell_type": "code",
   "execution_count": 156,
   "metadata": {},
   "outputs": [
    {
     "data": {
      "text/html": [
       "<div>\n",
       "<style>\n",
       "    .dataframe thead tr:only-child th {\n",
       "        text-align: right;\n",
       "    }\n",
       "\n",
       "    .dataframe thead th {\n",
       "        text-align: left;\n",
       "    }\n",
       "\n",
       "    .dataframe tbody tr th {\n",
       "        vertical-align: top;\n",
       "    }\n",
       "</style>\n",
       "<table border=\"1\" class=\"dataframe\">\n",
       "  <thead>\n",
       "    <tr style=\"text-align: right;\">\n",
       "      <th></th>\n",
       "      <th>Activity</th>\n",
       "      <th>D1</th>\n",
       "      <th>D2</th>\n",
       "      <th>D3</th>\n",
       "      <th>D4</th>\n",
       "      <th>D5</th>\n",
       "      <th>D6</th>\n",
       "      <th>D7</th>\n",
       "      <th>D8</th>\n",
       "      <th>D9</th>\n",
       "      <th>...</th>\n",
       "      <th>D1767</th>\n",
       "      <th>D1768</th>\n",
       "      <th>D1769</th>\n",
       "      <th>D1770</th>\n",
       "      <th>D1771</th>\n",
       "      <th>D1772</th>\n",
       "      <th>D1773</th>\n",
       "      <th>D1774</th>\n",
       "      <th>D1775</th>\n",
       "      <th>D1776</th>\n",
       "    </tr>\n",
       "  </thead>\n",
       "  <tbody>\n",
       "    <tr>\n",
       "      <th>0</th>\n",
       "      <td>1</td>\n",
       "      <td>0.000000</td>\n",
       "      <td>0.497009</td>\n",
       "      <td>0.10</td>\n",
       "      <td>0.0</td>\n",
       "      <td>0.132956</td>\n",
       "      <td>0.678031</td>\n",
       "      <td>0.273166</td>\n",
       "      <td>0.585445</td>\n",
       "      <td>0.743663</td>\n",
       "      <td>...</td>\n",
       "      <td>0</td>\n",
       "      <td>0</td>\n",
       "      <td>0</td>\n",
       "      <td>0</td>\n",
       "      <td>0</td>\n",
       "      <td>0</td>\n",
       "      <td>0</td>\n",
       "      <td>0</td>\n",
       "      <td>0</td>\n",
       "      <td>0</td>\n",
       "    </tr>\n",
       "    <tr>\n",
       "      <th>1</th>\n",
       "      <td>1</td>\n",
       "      <td>0.366667</td>\n",
       "      <td>0.606291</td>\n",
       "      <td>0.05</td>\n",
       "      <td>0.0</td>\n",
       "      <td>0.111209</td>\n",
       "      <td>0.803455</td>\n",
       "      <td>0.106105</td>\n",
       "      <td>0.411754</td>\n",
       "      <td>0.836582</td>\n",
       "      <td>...</td>\n",
       "      <td>1</td>\n",
       "      <td>1</td>\n",
       "      <td>1</td>\n",
       "      <td>1</td>\n",
       "      <td>0</td>\n",
       "      <td>1</td>\n",
       "      <td>0</td>\n",
       "      <td>0</td>\n",
       "      <td>1</td>\n",
       "      <td>0</td>\n",
       "    </tr>\n",
       "    <tr>\n",
       "      <th>2</th>\n",
       "      <td>1</td>\n",
       "      <td>0.033300</td>\n",
       "      <td>0.480124</td>\n",
       "      <td>0.00</td>\n",
       "      <td>0.0</td>\n",
       "      <td>0.209791</td>\n",
       "      <td>0.610350</td>\n",
       "      <td>0.356453</td>\n",
       "      <td>0.517720</td>\n",
       "      <td>0.679051</td>\n",
       "      <td>...</td>\n",
       "      <td>0</td>\n",
       "      <td>0</td>\n",
       "      <td>0</td>\n",
       "      <td>0</td>\n",
       "      <td>0</td>\n",
       "      <td>0</td>\n",
       "      <td>0</td>\n",
       "      <td>0</td>\n",
       "      <td>0</td>\n",
       "      <td>0</td>\n",
       "    </tr>\n",
       "    <tr>\n",
       "      <th>3</th>\n",
       "      <td>1</td>\n",
       "      <td>0.000000</td>\n",
       "      <td>0.538825</td>\n",
       "      <td>0.00</td>\n",
       "      <td>0.5</td>\n",
       "      <td>0.196344</td>\n",
       "      <td>0.724230</td>\n",
       "      <td>0.235606</td>\n",
       "      <td>0.288764</td>\n",
       "      <td>0.805110</td>\n",
       "      <td>...</td>\n",
       "      <td>0</td>\n",
       "      <td>0</td>\n",
       "      <td>0</td>\n",
       "      <td>0</td>\n",
       "      <td>0</td>\n",
       "      <td>0</td>\n",
       "      <td>0</td>\n",
       "      <td>0</td>\n",
       "      <td>0</td>\n",
       "      <td>0</td>\n",
       "    </tr>\n",
       "    <tr>\n",
       "      <th>4</th>\n",
       "      <td>0</td>\n",
       "      <td>0.100000</td>\n",
       "      <td>0.517794</td>\n",
       "      <td>0.00</td>\n",
       "      <td>0.0</td>\n",
       "      <td>0.494734</td>\n",
       "      <td>0.781422</td>\n",
       "      <td>0.154361</td>\n",
       "      <td>0.303809</td>\n",
       "      <td>0.812646</td>\n",
       "      <td>...</td>\n",
       "      <td>0</td>\n",
       "      <td>0</td>\n",
       "      <td>0</td>\n",
       "      <td>0</td>\n",
       "      <td>0</td>\n",
       "      <td>0</td>\n",
       "      <td>0</td>\n",
       "      <td>0</td>\n",
       "      <td>0</td>\n",
       "      <td>0</td>\n",
       "    </tr>\n",
       "  </tbody>\n",
       "</table>\n",
       "<p>5 rows × 1777 columns</p>\n",
       "</div>"
      ],
      "text/plain": [
       "   Activity        D1        D2    D3   D4        D5        D6        D7  \\\n",
       "0         1  0.000000  0.497009  0.10  0.0  0.132956  0.678031  0.273166   \n",
       "1         1  0.366667  0.606291  0.05  0.0  0.111209  0.803455  0.106105   \n",
       "2         1  0.033300  0.480124  0.00  0.0  0.209791  0.610350  0.356453   \n",
       "3         1  0.000000  0.538825  0.00  0.5  0.196344  0.724230  0.235606   \n",
       "4         0  0.100000  0.517794  0.00  0.0  0.494734  0.781422  0.154361   \n",
       "\n",
       "         D8        D9  ...    D1767  D1768  D1769  D1770  D1771  D1772  D1773  \\\n",
       "0  0.585445  0.743663  ...        0      0      0      0      0      0      0   \n",
       "1  0.411754  0.836582  ...        1      1      1      1      0      1      0   \n",
       "2  0.517720  0.679051  ...        0      0      0      0      0      0      0   \n",
       "3  0.288764  0.805110  ...        0      0      0      0      0      0      0   \n",
       "4  0.303809  0.812646  ...        0      0      0      0      0      0      0   \n",
       "\n",
       "   D1774  D1775  D1776  \n",
       "0      0      0      0  \n",
       "1      0      1      0  \n",
       "2      0      0      0  \n",
       "3      0      0      0  \n",
       "4      0      0      0  \n",
       "\n",
       "[5 rows x 1777 columns]"
      ]
     },
     "execution_count": 156,
     "metadata": {},
     "output_type": "execute_result"
    }
   ],
   "source": [
    "bioresponce.head(5)"
   ]
  },
  {
   "cell_type": "code",
   "execution_count": 157,
   "metadata": {
    "collapsed": true
   },
   "outputs": [],
   "source": [
    "y = bioresponce.Activity.values"
   ]
  },
  {
   "cell_type": "code",
   "execution_count": 158,
   "metadata": {
    "collapsed": true
   },
   "outputs": [],
   "source": [
    "X = bioresponce.iloc[:, 1:]"
   ]
  },
  {
   "cell_type": "code",
   "execution_count": 159,
   "metadata": {
    "collapsed": true
   },
   "outputs": [],
   "source": [
    "from sklearn.model_selection import train_test_split\n",
    "\n",
    "X_train, X_test, y_train, y_test = train_test_split(X, y, test_size=0.33, random_state=42)"
   ]
  },
  {
   "cell_type": "markdown",
   "metadata": {},
   "source": [
    "### Строим модель и оцениваем качество"
   ]
  },
  {
   "cell_type": "code",
   "execution_count": 160,
   "metadata": {
    "collapsed": true
   },
   "outputs": [],
   "source": [
    "from sklearn.linear_model import LogisticRegression"
   ]
  },
  {
   "cell_type": "code",
   "execution_count": 161,
   "metadata": {},
   "outputs": [],
   "source": [
    "model = LogisticRegression()\n",
    "model.fit(X_train, y_train)\n",
    "preds = model.predict(X_test)"
   ]
  },
  {
   "cell_type": "code",
   "execution_count": 162,
   "metadata": {},
   "outputs": [
    {
     "data": {
      "text/plain": [
       "numpy.ndarray"
      ]
     },
     "execution_count": 162,
     "metadata": {},
     "output_type": "execute_result"
    }
   ],
   "source": [
    "type(preds)"
   ]
  },
  {
   "cell_type": "code",
   "execution_count": 163,
   "metadata": {},
   "outputs": [
    {
     "data": {
      "text/plain": [
       "1"
      ]
     },
     "execution_count": 163,
     "metadata": {},
     "output_type": "execute_result"
    }
   ],
   "source": [
    "10 // 9"
   ]
  },
  {
   "cell_type": "code",
   "execution_count": 164,
   "metadata": {},
   "outputs": [
    {
     "name": "stdout",
     "output_type": "stream",
     "text": [
      "0.75605815832\n"
     ]
    }
   ],
   "source": [
    "print(sum(preds == y_test) / len(preds))"
   ]
  },
  {
   "cell_type": "code",
   "execution_count": 165,
   "metadata": {},
   "outputs": [
    {
     "name": "stdout",
     "output_type": "stream",
     "text": [
      "0.75605815832\n"
     ]
    }
   ],
   "source": [
    "print(sum(preds == y_test) / float(len(preds)))"
   ]
  },
  {
   "cell_type": "code",
   "execution_count": 166,
   "metadata": {},
   "outputs": [
    {
     "name": "stdout",
     "output_type": "stream",
     "text": [
      "0.75605815832\n"
     ]
    }
   ],
   "source": [
    "from sklearn.metrics import accuracy_score\n",
    "\n",
    "print(accuracy_score(preds, y_test))"
   ]
  },
  {
   "cell_type": "markdown",
   "metadata": {},
   "source": [
    "### Качество на кросс-валидации"
   ]
  },
  {
   "cell_type": "code",
   "execution_count": 167,
   "metadata": {},
   "outputs": [
    {
     "name": "stdout",
     "output_type": "stream",
     "text": [
      "[ 0.74404762  0.73956262  0.72310757  0.75099602  0.75896414]\n"
     ]
    }
   ],
   "source": [
    "from sklearn.model_selection import cross_val_score\n",
    "\n",
    "print(cross_val_score(model, X_train, y_train, cv=5))"
   ]
  },
  {
   "cell_type": "code",
   "execution_count": 168,
   "metadata": {},
   "outputs": [
    {
     "name": "stdout",
     "output_type": "stream",
     "text": [
      "0.743335594477\n"
     ]
    }
   ],
   "source": [
    "print(cross_val_score(model, X_train, y_train, cv=5).mean())"
   ]
  },
  {
   "cell_type": "markdown",
   "metadata": {},
   "source": [
    "### Пробуем другие классификаторы"
   ]
  },
  {
   "cell_type": "code",
   "execution_count": 169,
   "metadata": {
    "collapsed": true
   },
   "outputs": [],
   "source": [
    "from sklearn.neighbors import KNeighborsClassifier\n",
    "from sklearn.tree import DecisionTreeClassifier\n",
    "from sklearn.svm import LinearSVC\n",
    "from sklearn.ensemble import RandomForestClassifier, GradientBoostingClassifier\n"
   ]
  },
  {
   "cell_type": "code",
   "execution_count": 170,
   "metadata": {},
   "outputs": [
    {
     "name": "stdout",
     "output_type": "stream",
     "text": [
      "0.718901453958 KNeighborsClassifier(algorithm='auto', leaf_size=30, metric='minkowski',\n",
      "           metric_params=None, n_jobs=1, n_neighbors=5, p=2,\n",
      "           weights='uniform')\n",
      "0.698707592892 DecisionTreeClassifier(class_weight=None, criterion='gini', max_depth=None,\n",
      "            max_features=None, max_leaf_nodes=None,\n",
      "            min_impurity_split=1e-07, min_samples_leaf=1,\n",
      "            min_samples_split=2, min_weight_fraction_leaf=0.0,\n",
      "            presort=False, random_state=None, splitter='best')\n",
      "0.739903069467 LinearSVC(C=1.0, class_weight=None, dual=True, fit_intercept=True,\n",
      "     intercept_scaling=1, loss='squared_hinge', max_iter=1000,\n",
      "     multi_class='ovr', penalty='l2', random_state=None, tol=0.0001,\n",
      "     verbose=0)\n",
      "0.789176090468 RandomForestClassifier(bootstrap=True, class_weight=None, criterion='gini',\n",
      "            max_depth=None, max_features='auto', max_leaf_nodes=None,\n",
      "            min_impurity_split=1e-07, min_samples_leaf=1,\n",
      "            min_samples_split=2, min_weight_fraction_leaf=0.0,\n",
      "            n_estimators=100, n_jobs=1, oob_score=False, random_state=None,\n",
      "            verbose=0, warm_start=False)\n",
      "0.779483037157 GradientBoostingClassifier(criterion='friedman_mse', init=None,\n",
      "              learning_rate=0.1, loss='deviance', max_depth=3,\n",
      "              max_features=None, max_leaf_nodes=None,\n",
      "              min_impurity_split=1e-07, min_samples_leaf=1,\n",
      "              min_samples_split=2, min_weight_fraction_leaf=0.0,\n",
      "              n_estimators=100, presort='auto', random_state=None,\n",
      "              subsample=1.0, verbose=0, warm_start=False)\n",
      "CPU times: user 24.3 s, sys: 220 ms, total: 24.5 s\n",
      "Wall time: 24.1 s\n"
     ]
    }
   ],
   "source": [
    "%%time\n",
    "\n",
    "models = [\n",
    "    KNeighborsClassifier(),\n",
    "    DecisionTreeClassifier(),\n",
    "    LinearSVC(),\n",
    "    RandomForestClassifier(n_estimators=100), \n",
    "    GradientBoostingClassifier(n_estimators=100)\n",
    "]\n",
    "\n",
    "for model in models:\n",
    "    model.fit(X_train, y_train)\n",
    "    preds = model.predict(X_test)\n",
    "    print(accuracy_score(preds, y_test), model)"
   ]
  },
  {
   "cell_type": "markdown",
   "metadata": {
    "collapsed": true
   },
   "source": [
    "## Опциональное задание:\n",
    "\n",
    "Попробуйте разные классификаторы с разными параметрами и постарайтесь добиться максимального качества на тестовой выборке"
   ]
  },
  {
   "cell_type": "code",
   "execution_count": 171,
   "metadata": {},
   "outputs": [],
   "source": [
    "import numpy as np\n",
    "from sklearn import cross_validation, grid_search"
   ]
  },
  {
   "cell_type": "code",
   "execution_count": 172,
   "metadata": {
    "collapsed": true
   },
   "outputs": [],
   "source": [
    "cv = cross_validation.StratifiedShuffleSplit(y_train, n_iter=10, test_size=0.2, random_state=0)"
   ]
  },
  {
   "cell_type": "code",
   "execution_count": 173,
   "metadata": {},
   "outputs": [],
   "source": [
    "def grid_search_CV(classifier, parameters_grid, X_train, y_train):\n",
    "    cv = cross_validation.StratifiedShuffleSplit(y_train, n_iter=10, test_size=0.2, random_state=0)\n",
    "    grid_cv = grid_search.GridSearchCV(classifier, parameters_grid, scoring='accuracy', cv=cv)\n",
    "    \n",
    "    print(str(classifier), '\\n')\n",
    "    \n",
    "    print(\"GridSearchCV\")\n",
    "    \n",
    "    %time grid_cv.fit(X_train, y_train)\n",
    "    \n",
    "    print(\"Best score = {}\".format(grid_cv.best_score_))\n",
    "    print(\"Best params = {}\".format(grid_cv.best_params_))\n",
    "    \n",
    "    randomized_grid_cv = grid_search.RandomizedSearchCV(\n",
    "        classifier,\n",
    "        parameters_grid,\n",
    "        scoring='accuracy',\n",
    "        cv=cv, n_iter = 10,\n",
    "        random_state = 0\n",
    "    )\n",
    "    print(\"RandomizedSearchCV\")\n",
    "          \n",
    "    %time randomized_grid_cv.fit(X_train, y_train)\n",
    "    \n",
    "    print(\"Best score = {}\".format(randomized_grid_cv.best_score_))\n",
    "    print(\"Best params = {}\".format(randomized_grid_cv.best_params_))\n",
    "    "
   ]
  },
  {
   "cell_type": "code",
   "execution_count": 174,
   "metadata": {
    "collapsed": true
   },
   "outputs": [],
   "source": [
    "parameters_grid_kneigh = {\n",
    "    'algorithm': ['auto', 'ball_tree', 'kd_tree'],\n",
    "    'p': [1, 2],\n",
    "    'n_neighbors': np.arange(4, 8, 1),\n",
    "    'weights': ['uniform', 'distance']\n",
    "}\n",
    "\n",
    "parameters_grid_decision_tree = {\n",
    "    'criterion' : ['gini', 'entropy'],\n",
    "    'max_depth' : np.arange(1, 6),\n",
    "    'min_samples_split' : np.arange(3, 5),\n",
    "    'min_samples_leaf' : np.arange(2, 4),\n",
    "    'max_features' : ['log2', 'sqrt']\n",
    "}\n",
    "\n",
    "parameters_grid_linearSVC = {\n",
    "    'multi_class' : ['ovr', 'crammer_singer'],\n",
    "    'fit_intercept' : ['True', 'False'],\n",
    "    'max_iter' : np.arange(750, 1501, 250)\n",
    "}\n",
    "\n",
    "parameters_grid_random_forest = {\n",
    "    'n_estimators' : np.arange(100, 201, 50),\n",
    "    'criterion' : ['gini', 'entropy'],\n",
    "    'max_features' : ['sqrt', 'log2'],\n",
    "    'bootstrap' : ['True', 'False'],\n",
    "    'min_samples_split' : np.arange(3, 5),\n",
    "    'min_samples_leaf' : np.arange(2, 4)\n",
    "}\n",
    "\n",
    "parameters_grid_gradientboosting = {\n",
    "    'n_estimators' : np.arange(100, 201, 50),\n",
    "    'loss' : ['deviance', 'exponential'],\n",
    "    'max_depth' : np.arange(3, 6),\n",
    "    'max_features' : ['sqrt', 'log2'],\n",
    "    'criterion' : ['friedman_mse', 'mse']\n",
    "}\n"
   ]
  },
  {
   "cell_type": "code",
   "execution_count": 175,
   "metadata": {},
   "outputs": [],
   "source": [
    "parameters_grids = [\n",
    "    parameters_grid_kneigh,\n",
    "    parameters_grid_decision_tree,\n",
    "    parameters_grid_linearSVC,\n",
    "    parameters_grid_random_forest,\n",
    "    parameters_grid_gradientboosting\n",
    "]"
   ]
  },
  {
   "cell_type": "code",
   "execution_count": 176,
   "metadata": {
    "collapsed": true
   },
   "outputs": [],
   "source": [
    "classifiers_with_grids = (\n",
    "    (KNeighborsClassifier(), parameters_grid_kneigh),\n",
    "    (DecisionTreeClassifier(),parameters_grid_decision_tree),\n",
    "    (LinearSVC(), parameters_grid_linearSVC),\n",
    "    (RandomForestClassifier(), parameters_grid_random_forest),\n",
    "    (GradientBoostingClassifier(), parameters_grid_gradientboosting)\n",
    ")"
   ]
  },
  {
   "cell_type": "code",
   "execution_count": 177,
   "metadata": {},
   "outputs": [
    {
     "name": "stdout",
     "output_type": "stream",
     "text": [
      "KNeighborsClassifier(algorithm='auto', leaf_size=30, metric='minkowski',\n",
      "           metric_params=None, n_jobs=1, n_neighbors=5, p=2,\n",
      "           weights='uniform') \n",
      "\n",
      "GridSearchCV\n",
      "CPU times: user 23min 58s, sys: 4.7 s, total: 24min 3s\n",
      "Wall time: 24min 3s\n",
      "Best score = 0.757455268389662\n",
      "Best params = {'algorithm': 'auto', 'n_neighbors': 7, 'p': 1, 'weights': 'distance'}\n",
      "RandomizedSearchCV\n",
      "CPU times: user 5min 2s, sys: 1.21 s, total: 5min 3s\n",
      "Wall time: 5min 3s\n",
      "Best score = 0.757455268389662\n",
      "Best params = {'weights': 'distance', 'p': 1, 'n_neighbors': 7, 'algorithm': 'ball_tree'}\n",
      "DecisionTreeClassifier(class_weight=None, criterion='gini', max_depth=None,\n",
      "            max_features=None, max_leaf_nodes=None,\n",
      "            min_impurity_split=1e-07, min_samples_leaf=1,\n",
      "            min_samples_split=2, min_weight_fraction_leaf=0.0,\n",
      "            presort=False, random_state=None, splitter='best') \n",
      "\n",
      "GridSearchCV\n",
      "CPU times: user 27.4 s, sys: 0 ns, total: 27.4 s\n",
      "Wall time: 27.4 s\n",
      "Best score = 0.6854870775347912\n",
      "Best params = {'criterion': 'gini', 'max_depth': 5, 'max_features': 'sqrt', 'min_samples_leaf': 3, 'min_samples_split': 4}\n",
      "RandomizedSearchCV\n",
      "CPU times: user 3.48 s, sys: 4 ms, total: 3.49 s\n",
      "Wall time: 3.48 s\n",
      "Best score = 0.6612326043737574\n",
      "Best params = {'min_samples_split': 4, 'min_samples_leaf': 2, 'max_features': 'sqrt', 'max_depth': 5, 'criterion': 'entropy'}\n",
      "LinearSVC(C=1.0, class_weight=None, dual=True, fit_intercept=True,\n",
      "     intercept_scaling=1, loss='squared_hinge', max_iter=1000,\n",
      "     multi_class='ovr', penalty='l2', random_state=None, tol=0.0001,\n",
      "     verbose=0) \n",
      "\n",
      "GridSearchCV\n",
      "CPU times: user 30min 1s, sys: 2.01 s, total: 30min 3s\n",
      "Wall time: 29min 34s\n",
      "Best score = 0.7330019880715706\n",
      "Best params = {'fit_intercept': 'True', 'max_iter': 750, 'multi_class': 'crammer_singer'}\n",
      "RandomizedSearchCV\n",
      "CPU times: user 15min 9s, sys: 1.18 s, total: 15min 10s\n",
      "Wall time: 14min 52s\n",
      "Best score = 0.7330019880715706\n",
      "Best params = {'multi_class': 'crammer_singer', 'max_iter': 750, 'fit_intercept': 'True'}\n",
      "RandomForestClassifier(bootstrap=True, class_weight=None, criterion='gini',\n",
      "            max_depth=None, max_features='auto', max_leaf_nodes=None,\n",
      "            min_impurity_split=1e-07, min_samples_leaf=1,\n",
      "            min_samples_split=2, min_weight_fraction_leaf=0.0,\n",
      "            n_estimators=10, n_jobs=1, oob_score=False, random_state=None,\n",
      "            verbose=0, warm_start=False) \n",
      "\n",
      "GridSearchCV\n",
      "CPU times: user 19min 35s, sys: 420 ms, total: 19min 36s\n",
      "Wall time: 19min 43s\n",
      "Best score = 0.8\n",
      "Best params = {'bootstrap': 'False', 'criterion': 'gini', 'max_features': 'sqrt', 'min_samples_leaf': 2, 'min_samples_split': 4, 'n_estimators': 200}\n",
      "RandomizedSearchCV\n",
      "CPU times: user 2min 4s, sys: 68 ms, total: 2min 4s\n",
      "Wall time: 2min 6s\n",
      "Best score = 0.7968190854870776\n",
      "Best params = {'n_estimators': 200, 'min_samples_split': 3, 'min_samples_leaf': 2, 'max_features': 'sqrt', 'criterion': 'gini', 'bootstrap': 'True'}\n",
      "GradientBoostingClassifier(criterion='friedman_mse', init=None,\n",
      "              learning_rate=0.1, loss='deviance', max_depth=3,\n",
      "              max_features=None, max_leaf_nodes=None,\n",
      "              min_impurity_split=1e-07, min_samples_leaf=1,\n",
      "              min_samples_split=2, min_weight_fraction_leaf=0.0,\n",
      "              n_estimators=100, presort='auto', random_state=None,\n",
      "              subsample=1.0, verbose=0, warm_start=False) \n",
      "\n",
      "GridSearchCV\n",
      "CPU times: user 8min 18s, sys: 224 ms, total: 8min 18s\n",
      "Wall time: 8min 22s\n",
      "Best score = 0.7938369781312127\n",
      "Best params = {'criterion': 'friedman_mse', 'loss': 'deviance', 'max_depth': 5, 'max_features': 'sqrt', 'n_estimators': 150}\n",
      "RandomizedSearchCV\n",
      "CPU times: user 1min 8s, sys: 4 ms, total: 1min 8s\n",
      "Wall time: 1min 8s\n",
      "Best score = 0.7916500994035786\n",
      "Best params = {'n_estimators': 200, 'max_features': 'log2', 'max_depth': 5, 'loss': 'exponential', 'criterion': 'mse'}\n"
     ]
    }
   ],
   "source": [
    "for classifier_with_grids in classifiers_with_grids:\n",
    "    grid_search_CV(classifier_with_grids[0], classifier_with_grids[1], X_train, y_train)"
   ]
  },
  {
   "cell_type": "markdown",
   "metadata": {},
   "source": [
    "**GridSearch** лучше всего подходит для небольших выборок, так как проходит по всей сетке, а **RandomizedSearch** подходит для выборок любого размера, посколько выбирает случайным образом n наборов параметров из заданной сетки.\n",
    "\n",
    "Так же **RandomizedSearch** на порядок быстрее, ввиду меньшей выборки, в то же время точность меняется всего лишь во 2-3 порядке\n",
    "\n",
    "Таким образом при ограниченных ресурсах и нежестких требованиях к точности целесообразно использовать **RandomizedSearch**"
   ]
  }
 ],
 "metadata": {
  "anaconda-cloud": {},
  "kernelspec": {
   "display_name": "Python 3",
   "language": "python",
   "name": "python3"
  }
 },
 "nbformat": 4,
 "nbformat_minor": 1
}
